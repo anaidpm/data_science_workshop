{
 "cells": [
  {
   "cell_type": "markdown",
   "metadata": {},
   "source": [
    "![\"title\"](pylogo.png)"
   ]
  },
  {
   "cell_type": "markdown",
   "metadata": {},
   "source": [
    "# Introduction"
   ]
  },
  {
   "cell_type": "markdown",
   "metadata": {},
   "source": [
    "After completing this workshop, you should:\n",
    "    <br/><br/>\n",
    "Understand the basic concepts and features of Python 3. <br/>\n",
    "Read and write basic Python programs<br/>\n",
    "Apply Python to solve problems<br/>\n"
   ]
  },
  {
   "cell_type": "markdown",
   "metadata": {},
   "source": [
    "## Basic I/O"
   ]
  },
  {
   "cell_type": "code",
   "execution_count": 4,
   "metadata": {},
   "outputs": [
    {
     "name": "stdout",
     "output_type": "stream",
     "text": [
      "Hello World!\n"
     ]
    }
   ],
   "source": [
    "print(\"Hello World!\")"
   ]
  },
  {
   "cell_type": "code",
   "execution_count": 5,
   "metadata": {},
   "outputs": [
    {
     "name": "stdout",
     "output_type": "stream",
     "text": [
      "a = 5\n",
      "a = High five\n"
     ]
    }
   ],
   "source": [
    "a = 5\n",
    "print(\"a =\", 5)\n",
    "a = \"High five\"\n",
    "print(\"a =\", a)"
   ]
  },
  {
   "cell_type": "code",
   "execution_count": 19,
   "metadata": {},
   "outputs": [
    {
     "name": "stdout",
     "output_type": "stream",
     "text": [
      "Enter your name:Diana\n",
      "Hello,  Diana\n"
     ]
    }
   ],
   "source": [
    "inputString = input('Enter your name:')\n",
    "print('Hello, ', inputString)"
   ]
  },
  {
   "cell_type": "markdown",
   "metadata": {},
   "source": [
    "## Strings"
   ]
  },
  {
   "cell_type": "code",
   "execution_count": 31,
   "metadata": {},
   "outputs": [
    {
     "name": "stdout",
     "output_type": "stream",
     "text": [
      "Hello\n",
      "Hello\n",
      "Hello\n",
      "Hello, welcome to\n",
      "           the world of Python\n"
     ]
    }
   ],
   "source": [
    "# all of the following are equivalent\n",
    "my_string = 'Hello'\n",
    "print(my_string)\n",
    "\n",
    "my_string = \"Hello\"\n",
    "print(my_string)\n",
    "\n",
    "my_string = '''Hello'''\n",
    "print(my_string)\n",
    "\n",
    "# triple quotes string can extend multiple lines\n",
    "my_string = \"\"\"Hello, welcome to\n",
    "           the world of Python\"\"\"\n",
    "print(my_string)"
   ]
  },
  {
   "cell_type": "markdown",
   "metadata": {},
   "source": [
    "## Python numeric types"
   ]
  },
  {
   "cell_type": "code",
   "execution_count": 30,
   "metadata": {},
   "outputs": [
    {
     "name": "stdout",
     "output_type": "stream",
     "text": [
      "<class 'int'>\n",
      "<class 'float'>\n"
     ]
    }
   ],
   "source": [
    "# Output: <class>\n",
    "print(type(5))\n",
    "\n",
    "# Output: <class>\n",
    "print(type(5.0))\n"
   ]
  },
  {
   "cell_type": "code",
   "execution_count": null,
   "metadata": {},
   "outputs": [],
   "source": [
    "# <class>\n",
    "c = 5 + 3j\n",
    "#print the datatype of c\n"
   ]
  },
  {
   "cell_type": "markdown",
   "metadata": {},
   "source": [
    "## Operators"
   ]
  },
  {
   "cell_type": "code",
   "execution_count": 8,
   "metadata": {},
   "outputs": [
    {
     "data": {
      "text/plain": [
       "14"
      ]
     },
     "execution_count": 8,
     "metadata": {},
     "output_type": "execute_result"
    }
   ],
   "source": [
    "# Assignment operator\n",
    "x = 14\n",
    "y = 4\n",
    "x # Display a variable in Jupyter"
   ]
  },
  {
   "cell_type": "code",
   "execution_count": 10,
   "metadata": {},
   "outputs": [
    {
     "name": "stdout",
     "output_type": "stream",
     "text": [
      "x + y = 18\n"
     ]
    }
   ],
   "source": [
    "# Add two operands\n",
    "print('x + y =', x+y) # Output: x + y = 18"
   ]
  },
  {
   "cell_type": "code",
   "execution_count": 11,
   "metadata": {},
   "outputs": [
    {
     "name": "stdout",
     "output_type": "stream",
     "text": [
      "x - y = 10\n"
     ]
    }
   ],
   "source": [
    "# Subtract right operand from the left\n",
    "print('x - y =', x-y) # Output: x - y = 10"
   ]
  },
  {
   "cell_type": "code",
   "execution_count": 13,
   "metadata": {},
   "outputs": [
    {
     "name": "stdout",
     "output_type": "stream",
     "text": [
      "x * y = 56\n"
     ]
    }
   ],
   "source": [
    "# Multiply two operands\n",
    "print('x * y =', x*y) # Output: x * y = 56"
   ]
  },
  {
   "cell_type": "code",
   "execution_count": 15,
   "metadata": {},
   "outputs": [
    {
     "name": "stdout",
     "output_type": "stream",
     "text": [
      "x / y = 3.5\n"
     ]
    }
   ],
   "source": [
    "# Divide left operand by the right one \n",
    "print('x / y =', x/y) # Output: x / y = 3.5"
   ]
  },
  {
   "cell_type": "code",
   "execution_count": 16,
   "metadata": {},
   "outputs": [
    {
     "name": "stdout",
     "output_type": "stream",
     "text": [
      "x // y = 3\n"
     ]
    }
   ],
   "source": [
    "# Floor division (quotient)\n",
    "print('x // y =', x//y) # Output: x // y = 3"
   ]
  },
  {
   "cell_type": "code",
   "execution_count": 17,
   "metadata": {},
   "outputs": [
    {
     "name": "stdout",
     "output_type": "stream",
     "text": [
      "x % y = 2\n"
     ]
    }
   ],
   "source": [
    "# Remainder of the division of left operand by the right\n",
    "print('x % y =', x%y) # Output: x % y = 2"
   ]
  },
  {
   "cell_type": "code",
   "execution_count": 18,
   "metadata": {},
   "outputs": [
    {
     "name": "stdout",
     "output_type": "stream",
     "text": [
      "x ** y = 38416\n"
     ]
    }
   ],
   "source": [
    "# Left operand raised to the power of right (x^y)\n",
    "print('x ** y =', x**y) # Output: x ** y = 38416"
   ]
  },
  {
   "cell_type": "markdown",
   "metadata": {},
   "source": [
    "# Python Data Structures"
   ]
  },
  {
   "cell_type": "markdown",
   "metadata": {},
   "source": [
    "## Lists"
   ]
  },
  {
   "cell_type": "markdown",
   "metadata": {},
   "source": [
    "A list is created by placing all the items (elements) inside a square bracket [] separated by commas.\n",
    "\n",
    "It can have any number of items and they may be of different types (integer, float, string etc.)"
   ]
  },
  {
   "cell_type": "markdown",
   "metadata": {},
   "source": [
    "### Creating lists"
   ]
  },
  {
   "cell_type": "code",
   "execution_count": 22,
   "metadata": {},
   "outputs": [
    {
     "data": {
      "text/plain": [
       "[1, 2, 3]"
      ]
     },
     "execution_count": 22,
     "metadata": {},
     "output_type": "execute_result"
    }
   ],
   "source": [
    "# empty list\n",
    "my_list = []\n",
    "# list of integers\n",
    "my_list = [1, 2, 3]\n",
    "\n",
    "my_list"
   ]
  },
  {
   "cell_type": "code",
   "execution_count": 23,
   "metadata": {},
   "outputs": [
    {
     "data": {
      "text/plain": [
       "[1, 'Hello', 3.4]"
      ]
     },
     "execution_count": 23,
     "metadata": {},
     "output_type": "execute_result"
    }
   ],
   "source": [
    "# list with mixed data types\n",
    "my_list = [1, \"Hello\", 3.4]\n",
    "my_list"
   ]
  },
  {
   "cell_type": "code",
   "execution_count": 24,
   "metadata": {},
   "outputs": [
    {
     "data": {
      "text/plain": [
       "['a', 'e', 'i', 'o', 'u']"
      ]
     },
     "execution_count": 24,
     "metadata": {},
     "output_type": "execute_result"
    }
   ],
   "source": [
    "# Creating a list from a string\n",
    "vowelString = 'aeiou'\n",
    "list(vowelString)"
   ]
  },
  {
   "cell_type": "markdown",
   "metadata": {},
   "source": [
    "### Accessing lists"
   ]
  },
  {
   "cell_type": "code",
   "execution_count": 29,
   "metadata": {},
   "outputs": [
    {
     "name": "stdout",
     "output_type": "stream",
     "text": [
      "French\n",
      "Lingala\n"
     ]
    }
   ],
   "source": [
    "language = [\"French\", \"Xhosa\", \"English\", \"Lingala\"]\n",
    "\n",
    "# Accessing first element\n",
    "print(language[0])\n",
    "\n",
    "\n",
    "# Accessing fourth element\n",
    "print(language[3])\n",
    "\n",
    "# Accessing last element\n",
    "print(language[-1])"
   ]
  },
  {
   "cell_type": "code",
   "execution_count": null,
   "metadata": {},
   "outputs": [],
   "source": [
    "# Access and print the second element in the list\n"
   ]
  },
  {
   "cell_type": "code",
   "execution_count": null,
   "metadata": {},
   "outputs": [],
   "source": [
    "del language\n",
    "\n",
    "# Now print the list 'language' \n"
   ]
  },
  {
   "cell_type": "code",
   "execution_count": 32,
   "metadata": {},
   "outputs": [
    {
     "name": "stdout",
     "output_type": "stream",
     "text": [
      "Hello World!\n"
     ]
    }
   ],
   "source": [
    "str1 = 'Hello '\n",
    "str2 ='World!'\n",
    "\n",
    "# Output: Hello World!\n",
    "print(str1 + str2)"
   ]
  },
  {
   "cell_type": "code",
   "execution_count": null,
   "metadata": {},
   "outputs": [],
   "source": [
    "# Try printing this\n",
    "print(str1 * 3)"
   ]
  },
  {
   "cell_type": "markdown",
   "metadata": {},
   "source": [
    "# Python Control Flow"
   ]
  },
  {
   "cell_type": "markdown",
   "metadata": {},
   "source": [
    "## if...else Statement"
   ]
  },
  {
   "cell_type": "markdown",
   "metadata": {},
   "source": [
    "The if...else statement is used if you want perform different action (run different code) on different condition. \n",
    "<br/>For example:\n",
    "\n"
   ]
  },
  {
   "cell_type": "code",
   "execution_count": 33,
   "metadata": {},
   "outputs": [
    {
     "name": "stdout",
     "output_type": "stream",
     "text": [
      "Negative number\n"
     ]
    }
   ],
   "source": [
    "num = -1\n",
    "\n",
    "if num > 0:\n",
    "    print(\"Positive number\")\n",
    "elif num == 0:\n",
    "    print(\"Zero\")\n",
    "else:\n",
    "    print(\"Negative number\")\n",
    "    \n",
    "# Output: Negative number"
   ]
  },
  {
   "cell_type": "code",
   "execution_count": 34,
   "metadata": {},
   "outputs": [],
   "source": [
    "# Print whether or not \"num\" is a multiple of 2\n",
    "# Hint: use the \"remainder\" operation %\n"
   ]
  },
  {
   "cell_type": "markdown",
   "metadata": {},
   "source": [
    "There can be zero or more elif parts, and the else part is optional.\n",
    "\n",
    "Most programming languages use {} to specify the block of code. Python uses indentation.\n",
    "\n",
    "A code block starts with indentation and ends with the first unindented line. The amount of indentation is up to you, but it must be consistent throughout that block.\n",
    "\n",
    "Generally, four whitespace is used for indentation and is preferred over tabs."
   ]
  },
  {
   "cell_type": "markdown",
   "metadata": {},
   "source": [
    "## while Loop\n",
    "Like most programming languages, while loop is used to iterate over a block of code as long as a condition is true. <br/>\n",
    "Here is an example to find the sum of numbers from 1 to 100:"
   ]
  },
  {
   "cell_type": "code",
   "execution_count": 35,
   "metadata": {},
   "outputs": [
    {
     "name": "stdout",
     "output_type": "stream",
     "text": [
      "The sum is 5050\n"
     ]
    }
   ],
   "source": [
    "n = 100\n",
    "\n",
    "# initialize sum and counter\n",
    "sum = 0\n",
    "i = 1\n",
    "\n",
    "while i <= n:\n",
    "    sum = sum + i\n",
    "    i = i+1    # update counter\n",
    "\n",
    "print(\"The sum is\", sum)\n",
    "\n",
    "# Output: The sum is 5050"
   ]
  },
  {
   "cell_type": "markdown",
   "metadata": {},
   "source": [
    "## for Loop\n",
    "In Python, for loop is used to iterate over a sequence (such as a list or a string) or other iterable objects."
   ]
  },
  {
   "cell_type": "code",
   "execution_count": 38,
   "metadata": {},
   "outputs": [
    {
     "name": "stdout",
     "output_type": "stream",
     "text": [
      "The sum is 21\n"
     ]
    }
   ],
   "source": [
    "numbers = [0, 1, 2, 3, 4, 5, 6]\n",
    "\n",
    "sum = 0\n",
    "\n",
    "# iterate over the list\n",
    "for val in numbers:\n",
    "    sum = sum + val\n",
    "\n",
    "print(\"The sum is\", sum) # Output: The sum is 28"
   ]
  },
  {
   "cell_type": "code",
   "execution_count": null,
   "metadata": {},
   "outputs": [],
   "source": [
    "# Write a Python program that prints all the numbers in the list \"numbers\" except 3 and 6.\n",
    "# Use a loop as well as an if...else statement\n"
   ]
  },
  {
   "cell_type": "markdown",
   "metadata": {},
   "source": [
    "# Python Functions"
   ]
  },
  {
   "cell_type": "markdown",
   "metadata": {},
   "source": [
    "A function is a group of related statements that perform a specific task. \n",
    "\n",
    "You use def keyword to create functions in Python.\n",
    "\n",
    "You have to call the function to run the codes inside it. Here's how:\n",
    "\n"
   ]
  },
  {
   "cell_type": "code",
   "execution_count": 2,
   "metadata": {},
   "outputs": [
    {
     "name": "stdout",
     "output_type": "stream",
     "text": [
      "I am line1.\n",
      "I am line2.\n"
     ]
    }
   ],
   "source": [
    "def print_lines():\n",
    "    print(\"I am line1.\")\n",
    "    print(\"I am line2.\")\n",
    "\n",
    "# function call\n",
    "print_lines()"
   ]
  },
  {
   "cell_type": "markdown",
   "metadata": {},
   "source": [
    "A function can receive **parameters** and **return** a value (values).\n",
    "\n",
    "Example:"
   ]
  },
  {
   "cell_type": "code",
   "execution_count": 3,
   "metadata": {},
   "outputs": [
    {
     "data": {
      "text/plain": [
       "6"
      ]
     },
     "execution_count": 3,
     "metadata": {},
     "output_type": "execute_result"
    }
   ],
   "source": [
    "def sum(x,y):\n",
    "    my_sum = x + y\n",
    "    return my_sum\n",
    "\n",
    "sum(2,4)"
   ]
  },
  {
   "cell_type": "code",
   "execution_count": 4,
   "metadata": {},
   "outputs": [],
   "source": [
    "# Create a function which receives a number and returns its absolute value.\n",
    "\n"
   ]
  },
  {
   "cell_type": "code",
   "execution_count": null,
   "metadata": {},
   "outputs": [],
   "source": [
    "# Create a function which receives a list of strings and returns the longest string in the list\n",
    "# Example string [\"Kenny\", \"Xolisi\", \"Marie-Lynne\", \"Kyle\", \"Micah\"] should return \"Marie-Lynne\"\n",
    "\n",
    "# Hint: The function len() helps you determine the length of a list as well as the length of a string\n",
    "\n"
   ]
  }
 ],
 "metadata": {
  "kernelspec": {
   "display_name": "Python 3",
   "language": "python",
   "name": "python3"
  }
 },
 "nbformat": 4,
 "nbformat_minor": 2
}
